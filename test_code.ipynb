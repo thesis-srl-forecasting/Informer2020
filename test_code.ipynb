{
 "cells": [
  {
   "cell_type": "code",
   "execution_count": 10,
   "metadata": {},
   "outputs": [],
   "source": [
    "from scipy.special import softmax\n",
    "import torch\n",
    "import pandas as pd\n",
    "import numpy as np\n",
    "import math"
   ]
  },
  {
   "cell_type": "code",
   "execution_count": 11,
   "metadata": {},
   "outputs": [
    {
     "data": {
      "text/plain": [
       "9.210340371976184"
      ]
     },
     "execution_count": 11,
     "metadata": {},
     "output_type": "execute_result"
    }
   ],
   "source": [
    "math.log(10000.0) "
   ]
  },
  {
   "cell_type": "code",
   "execution_count": 2,
   "metadata": {},
   "outputs": [
    {
     "data": {
      "text/plain": [
       "array([0.88079708, 0.11920292])"
      ]
     },
     "execution_count": 2,
     "metadata": {},
     "output_type": "execute_result"
    }
   ],
   "source": [
    "softmax([14, 12])"
   ]
  },
  {
   "cell_type": "code",
   "execution_count": 4,
   "metadata": {},
   "outputs": [],
   "source": [
    "data_dict = {\n",
    "    'ETTh1':\"Dataset_ETT_hour\",\n",
    "    'ETTh2':\"Dataset_ETT_hour\",\n",
    "    'ETTm1':\"Dataset_ETT_minute\",\n",
    "    'ETTm2':\"Dataset_ETT_minute\",\n",
    "    'WTH':\"Dataset_Custom\",\n",
    "    'ECL':\"Dataset_Custom\",\n",
    "    'Solar':\"Dataset_Custom\",\n",
    "    'custom':\"Dataset_Custom\",\n",
    "}"
   ]
  },
  {
   "cell_type": "code",
   "execution_count": 20,
   "metadata": {},
   "outputs": [
    {
     "data": {
      "text/plain": [
       "'NVIDIA GeForce GTX 1080'"
      ]
     },
     "execution_count": 20,
     "metadata": {},
     "output_type": "execute_result"
    }
   ],
   "source": [
    "torch.cuda.get_device_name(0)"
   ]
  },
  {
   "cell_type": "code",
   "execution_count": 18,
   "metadata": {},
   "outputs": [
    {
     "data": {
      "text/plain": [
       "(6, 1)"
      ]
     },
     "execution_count": 18,
     "metadata": {},
     "output_type": "execute_result"
    }
   ],
   "source": [
    "torch.cuda.get_device_capability(0)"
   ]
  },
  {
   "cell_type": "code",
   "execution_count": 19,
   "metadata": {},
   "outputs": [
    {
     "name": "stdout",
     "output_type": "stream",
     "text": [
      "Mon Jan  9 14:43:10 2023       \n",
      "+-----------------------------------------------------------------------------+\n",
      "| NVIDIA-SMI 511.65       Driver Version: 511.65       CUDA Version: 11.6     |\n",
      "|-------------------------------+----------------------+----------------------+\n",
      "| GPU  Name            TCC/WDDM | Bus-Id        Disp.A | Volatile Uncorr. ECC |\n",
      "| Fan  Temp  Perf  Pwr:Usage/Cap|         Memory-Usage | GPU-Util  Compute M. |\n",
      "|                               |                      |               MIG M. |\n",
      "|===============================+======================+======================|\n",
      "|   0  NVIDIA GeForce ... WDDM  | 00000000:1C:00.0  On |                  N/A |\n",
      "|  0%   46C    P8    17W / 240W |   2067MiB /  8192MiB |      0%      Default |\n",
      "|                               |                      |                  N/A |\n",
      "+-------------------------------+----------------------+----------------------+\n",
      "                                                                               \n",
      "+-----------------------------------------------------------------------------+\n",
      "| Processes:                                                                  |\n",
      "|  GPU   GI   CI        PID   Type   Process name                  GPU Memory |\n",
      "|        ID   ID                                                   Usage      |\n",
      "|=============================================================================|\n",
      "|    0   N/A  N/A      3424    C+G   ...perience\\NVIDIA Share.exe    N/A      |\n",
      "|    0   N/A  N/A      6120      C                                   N/A      |\n",
      "|    0   N/A  N/A      7256    C+G   ...qxf38zg5c\\Skype\\Skype.exe    N/A      |\n",
      "|    0   N/A  N/A     12224    C+G   ...e\\Current\\LogiOverlay.exe    N/A      |\n",
      "|    0   N/A  N/A     12320    C+G   ...nputApp\\TextInputHost.exe    N/A      |\n",
      "|    0   N/A  N/A     13500    C+G   ...oft\\OneDrive\\OneDrive.exe    N/A      |\n",
      "|    0   N/A  N/A     13928    C+G   ...e\\PhoneExperienceHost.exe    N/A      |\n",
      "|    0   N/A  N/A     16676    C+G   ...5n1h2txyewy\\SearchApp.exe    N/A      |\n",
      "|    0   N/A  N/A     17676    C+G   ...ray\\lghub_system_tray.exe    N/A      |\n",
      "|    0   N/A  N/A     17764    C+G                                   N/A      |\n",
      "|    0   N/A  N/A     18240    C+G   ...ge\\Application\\msedge.exe    N/A      |\n",
      "|    0   N/A  N/A     18324    C+G   ...lPanel\\SystemSettings.exe    N/A      |\n",
      "|    0   N/A  N/A     19016    C+G   ...bbwe\\Microsoft.Photos.exe    N/A      |\n",
      "|    0   N/A  N/A     19484    C+G   ...zilla Firefox\\firefox.exe    N/A      |\n",
      "|    0   N/A  N/A     23116    C+G                                   N/A      |\n",
      "|    0   N/A  N/A     25256    C+G   ...werToys.PowerLauncher.exe    N/A      |\n",
      "|    0   N/A  N/A     28336    C+G   C:\\Windows\\explorer.exe         N/A      |\n",
      "|    0   N/A  N/A     28604    C+G   ...wekyb3d8bbwe\\Music.UI.exe    N/A      |\n",
      "|    0   N/A  N/A     28972    C+G   ...artMenuExperienceHost.exe    N/A      |\n",
      "|    0   N/A  N/A     30844    C+G   ...ram Files\\LGHUB\\lghub.exe    N/A      |\n",
      "|    0   N/A  N/A     30940    C+G   ...icrosoft VS Code\\Code.exe    N/A      |\n",
      "|    0   N/A  N/A     31636    C+G                                   N/A      |\n",
      "|    0   N/A  N/A     32856    C+G   ...zilla Firefox\\firefox.exe    N/A      |\n",
      "|    0   N/A  N/A     34548    C+G   ...y\\ShellExperienceHost.exe    N/A      |\n",
      "+-----------------------------------------------------------------------------+\n"
     ]
    }
   ],
   "source": [
    "!nvidia-smi"
   ]
  },
  {
   "cell_type": "code",
   "execution_count": null,
   "metadata": {},
   "outputs": [],
   "source": []
  },
  {
   "cell_type": "code",
   "execution_count": 50,
   "metadata": {},
   "outputs": [],
   "source": [
    "df = pd.read_pickle('data/ETT/capacity_price_processed.pkl')\n",
    "df['date'] = df['date'].apply(lambda cell: cell.strftime(\"%Y-%m-%d %H:%M:%S\"))\n",
    "\n",
    "product_types = df['product'].unique()\n",
    "\n",
    "save_path = 'data/ETT/'\n",
    "\n",
    "for prod in product_types:\n",
    "    df_ = df[df['product'] == prod][['date', 'capacity_price']]\n",
    "    save_name = f'SRL_{prod}.csv'\n",
    "    df_.to_csv(f'{save_path}{save_name}', index=False)"
   ]
  },
  {
   "cell_type": "code",
   "execution_count": 11,
   "metadata": {},
   "outputs": [],
   "source": [
    "df_ = df[df['product'] == 'NEG_00_04']"
   ]
  },
  {
   "cell_type": "code",
   "execution_count": 41,
   "metadata": {},
   "outputs": [],
   "source": [
    "df_ = pd.read_csv('data/ETT/SRL_NEG_00_04.csv')"
   ]
  },
  {
   "cell_type": "code",
   "execution_count": 38,
   "metadata": {},
   "outputs": [],
   "source": [
    "df['date'] = df['date'].apply(lambda cell: cell.strftime(\"%Y-%m-%d %H:%M:%S\"))"
   ]
  },
  {
   "cell_type": "code",
   "execution_count": 35,
   "metadata": {},
   "outputs": [
    {
     "ename": "AttributeError",
     "evalue": "'Series' object has no attribute 'strftime'",
     "output_type": "error",
     "traceback": [
      "\u001b[1;31m---------------------------------------------------------------------------\u001b[0m",
      "\u001b[1;31mAttributeError\u001b[0m                            Traceback (most recent call last)",
      "\u001b[1;32m~\\AppData\\Local\\Temp/ipykernel_17640/2219378939.py\u001b[0m in \u001b[0;36m<module>\u001b[1;34m\u001b[0m\n\u001b[1;32m----> 1\u001b[1;33m \u001b[0md\u001b[0m \u001b[1;33m=\u001b[0m \u001b[0mdf\u001b[0m\u001b[1;33m[\u001b[0m\u001b[1;34m'date'\u001b[0m\u001b[1;33m]\u001b[0m\u001b[1;33m.\u001b[0m\u001b[0mstrftime\u001b[0m\u001b[1;33m(\u001b[0m\u001b[1;34m\"%Y-%m-%d %H:%M:%S\"\u001b[0m\u001b[1;33m)\u001b[0m\u001b[1;33m\u001b[0m\u001b[1;33m\u001b[0m\u001b[0m\n\u001b[0m",
      "\u001b[1;32mc:\\Users\\93cha\\anaconda3\\envs\\torchlab\\lib\\site-packages\\pandas\\core\\generic.py\u001b[0m in \u001b[0;36m__getattr__\u001b[1;34m(self, name)\u001b[0m\n\u001b[0;32m   5900\u001b[0m         ):\n\u001b[0;32m   5901\u001b[0m             \u001b[1;32mreturn\u001b[0m \u001b[0mself\u001b[0m\u001b[1;33m[\u001b[0m\u001b[0mname\u001b[0m\u001b[1;33m]\u001b[0m\u001b[1;33m\u001b[0m\u001b[1;33m\u001b[0m\u001b[0m\n\u001b[1;32m-> 5902\u001b[1;33m         \u001b[1;32mreturn\u001b[0m \u001b[0mobject\u001b[0m\u001b[1;33m.\u001b[0m\u001b[0m__getattribute__\u001b[0m\u001b[1;33m(\u001b[0m\u001b[0mself\u001b[0m\u001b[1;33m,\u001b[0m \u001b[0mname\u001b[0m\u001b[1;33m)\u001b[0m\u001b[1;33m\u001b[0m\u001b[1;33m\u001b[0m\u001b[0m\n\u001b[0m\u001b[0;32m   5903\u001b[0m \u001b[1;33m\u001b[0m\u001b[0m\n\u001b[0;32m   5904\u001b[0m     \u001b[1;32mdef\u001b[0m \u001b[0m__setattr__\u001b[0m\u001b[1;33m(\u001b[0m\u001b[0mself\u001b[0m\u001b[1;33m,\u001b[0m \u001b[0mname\u001b[0m\u001b[1;33m:\u001b[0m \u001b[0mstr\u001b[0m\u001b[1;33m,\u001b[0m \u001b[0mvalue\u001b[0m\u001b[1;33m)\u001b[0m \u001b[1;33m->\u001b[0m \u001b[1;32mNone\u001b[0m\u001b[1;33m:\u001b[0m\u001b[1;33m\u001b[0m\u001b[1;33m\u001b[0m\u001b[0m\n",
      "\u001b[1;31mAttributeError\u001b[0m: 'Series' object has no attribute 'strftime'"
     ]
    }
   ],
   "source": [
    "d = df['date'].strftime(\"%Y-%m-%d %H:%M:%S\")"
   ]
  },
  {
   "cell_type": "code",
   "execution_count": 33,
   "metadata": {},
   "outputs": [
    {
     "data": {
      "text/plain": [
       "'2020-11-01 00:00:00'"
      ]
     },
     "execution_count": 33,
     "metadata": {},
     "output_type": "execute_result"
    }
   ],
   "source": [
    "d.strftime(\"%Y-%m-%d %H:%M:%S\")"
   ]
  },
  {
   "attachments": {},
   "cell_type": "markdown",
   "metadata": {},
   "source": [
    "### Test: `utils.timefeatures.time_features()`"
   ]
  },
  {
   "cell_type": "code",
   "execution_count": 52,
   "metadata": {},
   "outputs": [],
   "source": [
    "from typing import List\n",
    "\n",
    "import numpy as np\n",
    "import pandas as pd\n",
    "from pandas.tseries import offsets\n",
    "from pandas.tseries.frequencies import to_offset\n",
    "\n",
    "def time_features(dates, timeenc=1, freq='h'):\n",
    "    \"\"\"\n",
    "    > `time_features` takes in a `dates` dataframe with a 'dates' column and extracts the date down to `freq` where freq can be any of the following if `timeenc` is 0: \n",
    "    > * m - [month]\n",
    "    > * w - [month]\n",
    "    > * d - [month, day, weekday]\n",
    "    > * b - [month, day, weekday]\n",
    "    > * h - [month, day, weekday, hour]\n",
    "    > * t - [month, day, weekday, hour, *minute]\n",
    "    > \n",
    "    > If `timeenc` is 1, a similar, but different list of `freq` values are supported (all encoded between [-0.5 and 0.5]): \n",
    "    > * Q - [month]\n",
    "    > * M - [month]\n",
    "    > * W - [Day of month, week of year]\n",
    "    > * D - [Day of week, day of month, day of year]\n",
    "    > * B - [Day of week, day of month, day of year]\n",
    "    > * H - [Hour of day, day of week, day of month, day of year]\n",
    "    > * T - [Minute of hour*, hour of day, day of week, day of month, day of year]\n",
    "    > * S - [Second of minute, minute of hour, hour of day, day of week, day of month, day of year]\n",
    "\n",
    "    *minute returns a number from 0-3 corresponding to the 15 minute period it falls into.\n",
    "    \"\"\"\n",
    "    if timeenc==0:\n",
    "        dates['month'] = dates.date.apply(lambda row:row.month,1)\n",
    "        dates['day'] = dates.date.apply(lambda row:row.day,1)\n",
    "        dates['weekday'] = dates.date.apply(lambda row:row.weekday(),1)\n",
    "        dates['hour'] = dates.date.apply(lambda row:row.hour,1)\n",
    "        dates['minute'] = dates.date.apply(lambda row:row.minute,1)\n",
    "        dates['minute'] = dates.minute.map(lambda x:x//15)\n",
    "        freq_map = {\n",
    "            'y':[],'m':['month'],'w':['month'],'d':['month','day','weekday'],\n",
    "            'b':['month','day','weekday'],'h':['month','day','weekday','hour'],\n",
    "            't':['month','day','weekday','hour','minute'],\n",
    "        }\n",
    "        return dates[freq_map[freq.lower()]].values\n",
    "    if timeenc==1:\n",
    "        dates = pd.to_datetime(dates.date.values)\n",
    "        return np.vstack([feat(dates) for feat in time_features_from_frequency_str(freq)]).transpose(1,0)"
   ]
  },
  {
   "cell_type": "code",
   "execution_count": 53,
   "metadata": {},
   "outputs": [],
   "source": [
    "df = pd.read_csv('data/ETT/SRL_NEG_00_04.csv')"
   ]
  },
  {
   "cell_type": "code",
   "execution_count": 69,
   "metadata": {},
   "outputs": [
    {
     "data": {
      "text/html": [
       "<div>\n",
       "<style scoped>\n",
       "    .dataframe tbody tr th:only-of-type {\n",
       "        vertical-align: middle;\n",
       "    }\n",
       "\n",
       "    .dataframe tbody tr th {\n",
       "        vertical-align: top;\n",
       "    }\n",
       "\n",
       "    .dataframe thead th {\n",
       "        text-align: right;\n",
       "    }\n",
       "</style>\n",
       "<table border=\"1\" class=\"dataframe\">\n",
       "  <thead>\n",
       "    <tr style=\"text-align: right;\">\n",
       "      <th></th>\n",
       "      <th>date</th>\n",
       "    </tr>\n",
       "  </thead>\n",
       "  <tbody>\n",
       "    <tr>\n",
       "      <th>0</th>\n",
       "      <td>2020-11-01 00:00:00</td>\n",
       "    </tr>\n",
       "    <tr>\n",
       "      <th>1</th>\n",
       "      <td>2020-11-02 00:00:00</td>\n",
       "    </tr>\n",
       "    <tr>\n",
       "      <th>2</th>\n",
       "      <td>2020-11-03 00:00:00</td>\n",
       "    </tr>\n",
       "    <tr>\n",
       "      <th>3</th>\n",
       "      <td>2020-11-04 00:00:00</td>\n",
       "    </tr>\n",
       "    <tr>\n",
       "      <th>4</th>\n",
       "      <td>2020-11-05 00:00:00</td>\n",
       "    </tr>\n",
       "    <tr>\n",
       "      <th>...</th>\n",
       "      <td>...</td>\n",
       "    </tr>\n",
       "    <tr>\n",
       "      <th>780</th>\n",
       "      <td>2022-12-21 00:00:00</td>\n",
       "    </tr>\n",
       "    <tr>\n",
       "      <th>781</th>\n",
       "      <td>2022-12-22 00:00:00</td>\n",
       "    </tr>\n",
       "    <tr>\n",
       "      <th>782</th>\n",
       "      <td>2022-12-23 00:00:00</td>\n",
       "    </tr>\n",
       "    <tr>\n",
       "      <th>783</th>\n",
       "      <td>2022-12-24 00:00:00</td>\n",
       "    </tr>\n",
       "    <tr>\n",
       "      <th>784</th>\n",
       "      <td>2022-12-25 00:00:00</td>\n",
       "    </tr>\n",
       "  </tbody>\n",
       "</table>\n",
       "<p>785 rows × 1 columns</p>\n",
       "</div>"
      ],
      "text/plain": [
       "                    date\n",
       "0    2020-11-01 00:00:00\n",
       "1    2020-11-02 00:00:00\n",
       "2    2020-11-03 00:00:00\n",
       "3    2020-11-04 00:00:00\n",
       "4    2020-11-05 00:00:00\n",
       "..                   ...\n",
       "780  2022-12-21 00:00:00\n",
       "781  2022-12-22 00:00:00\n",
       "782  2022-12-23 00:00:00\n",
       "783  2022-12-24 00:00:00\n",
       "784  2022-12-25 00:00:00\n",
       "\n",
       "[785 rows x 1 columns]"
      ]
     },
     "execution_count": 69,
     "metadata": {},
     "output_type": "execute_result"
    }
   ],
   "source": [
    "dates"
   ]
  },
  {
   "cell_type": "code",
   "execution_count": 75,
   "metadata": {},
   "outputs": [
    {
     "name": "stderr",
     "output_type": "stream",
     "text": [
      "C:\\Users\\93cha\\AppData\\Local\\Temp/ipykernel_17640/2697475164.py:2: SettingWithCopyWarning: \n",
      "A value is trying to be set on a copy of a slice from a DataFrame.\n",
      "Try using .loc[row_indexer,col_indexer] = value instead\n",
      "\n",
      "See the caveats in the documentation: https://pandas.pydata.org/pandas-docs/stable/user_guide/indexing.html#returning-a-view-versus-a-copy\n",
      "  df_stamp['date'] = pd.to_datetime(df_stamp.date)\n"
     ]
    }
   ],
   "source": [
    "df_stamp = df[['date']]\n",
    "df_stamp['date'] = pd.to_datetime(df_stamp.date)\n",
    "stamp = time_features(df_stamp, timeenc=0, freq='d')"
   ]
  },
  {
   "cell_type": "code",
   "execution_count": 81,
   "metadata": {},
   "outputs": [
    {
     "data": {
      "text/plain": [
       "(10, 3)"
      ]
     },
     "execution_count": 81,
     "metadata": {},
     "output_type": "execute_result"
    }
   ],
   "source": [
    "stamp[0:10].shape"
   ]
  },
  {
   "attachments": {},
   "cell_type": "markdown",
   "metadata": {},
   "source": [
    "### Test embedding codes"
   ]
  },
  {
   "cell_type": "code",
   "execution_count": 12,
   "metadata": {},
   "outputs": [],
   "source": [
    "import torch\n",
    "import torch.nn as nn\n",
    "import torch.nn.functional as F\n",
    "\n",
    "import math\n",
    "\n",
    "class PositionalEmbedding(nn.Module):\n",
    "    def __init__(self, d_model, max_len=5000):\n",
    "        super(PositionalEmbedding, self).__init__()\n",
    "        # Compute the positional encodings once in log space.\n",
    "        pe = torch.zeros(max_len, d_model).float()\n",
    "        pe.require_grad = False\n",
    "\n",
    "        position = torch.arange(0, max_len).float().unsqueeze(1) # 2-dim vector max_len * 1\n",
    "        div_term = (torch.arange(0, d_model, 2).float() * -(math.log(10000.0) / d_model)).exp()\n",
    "\n",
    "        pe[:, 0::2] = torch.sin(position * div_term)\n",
    "        pe[:, 1::2] = torch.cos(position * div_term)\n",
    "\n",
    "        pe = pe.unsqueeze(0)\n",
    "        self.register_buffer('pe', pe)\n",
    "\n",
    "    def forward(self, x):\n",
    "        return self.pe[:, :x.size(1)]"
   ]
  },
  {
   "cell_type": "code",
   "execution_count": 14,
   "metadata": {},
   "outputs": [],
   "source": [
    "pe = PositionalEmbedding(64)\n",
    "x = torch.randn(100)"
   ]
  },
  {
   "cell_type": "code",
   "execution_count": 236,
   "metadata": {},
   "outputs": [
    {
     "data": {
      "text/plain": [
       "(128, 24, 1)"
      ]
     },
     "execution_count": 236,
     "metadata": {},
     "output_type": "execute_result"
    }
   ],
   "source": [
    "pred.shape"
   ]
  },
  {
   "cell_type": "code",
   "execution_count": 241,
   "metadata": {},
   "outputs": [
    {
     "data": {
      "text/plain": [
       "62"
      ]
     },
     "execution_count": 241,
     "metadata": {},
     "output_type": "execute_result"
    }
   ],
   "source": [
    "test.__len__()"
   ]
  },
  {
   "cell_type": "code",
   "execution_count": 235,
   "metadata": {},
   "outputs": [
    {
     "data": {
      "text/plain": [
       "157.0"
      ]
     },
     "execution_count": 235,
     "metadata": {},
     "output_type": "execute_result"
    }
   ],
   "source": [
    "len(df_raw)*0.2"
   ]
  },
  {
   "cell_type": "code",
   "execution_count": 43,
   "metadata": {},
   "outputs": [
    {
     "data": {
      "text/plain": [
       "array([[ 2.11210762],\n",
       "       [ 2.13510142],\n",
       "       [ 2.11973619],\n",
       "       [ 2.24244099],\n",
       "       [ 2.24244099],\n",
       "       [ 2.23481283],\n",
       "       [ 2.16583186],\n",
       "       [ 2.33441492],\n",
       "       [ 2.28079959],\n",
       "       [ 2.16583186],\n",
       "       [ 2.16583186],\n",
       "       [ 1.38383375],\n",
       "       [ 1.71348062],\n",
       "       [ 2.07374902],\n",
       "       [ 2.03549891],\n",
       "       [ 2.25006914],\n",
       "       [ 2.44175449],\n",
       "       [ 2.30379338],\n",
       "       [ 1.92042227],\n",
       "       [ 1.81319162],\n",
       "       [ 1.71348062],\n",
       "       [ 1.74410215],\n",
       "       [ 1.8744351 ],\n",
       "       [ 1.98951174],\n",
       "       [ 1.89742889],\n",
       "       [ 1.69811498],\n",
       "       [ 1.82844834],\n",
       "       [ 1.91279412],\n",
       "       [ 2.02013369],\n",
       "       [ 1.88980074],\n",
       "       [ 1.98177467],\n",
       "       [ 1.82082019],\n",
       "       [ 2.04312707],\n",
       "       [ 2.00476847],\n",
       "       [ 2.11973619],\n",
       "       [ 2.20408197],\n",
       "       [ 1.90516596],\n",
       "       [ 1.82082019],\n",
       "       [ 1.75183922],\n",
       "       [ 1.91279412],\n",
       "       [ 2.13510142],\n",
       "       [ 1.92042227],\n",
       "       [ 0.84724522],\n",
       "       [ 1.71348062],\n",
       "       [ 1.74410215],\n",
       "       [ 1.39919918],\n",
       "       [ 1.44518615],\n",
       "       [ 1.55252572],\n",
       "       [ 1.54478865],\n",
       "       [ 1.69048682],\n",
       "       [ 1.76709594],\n",
       "       [ 1.76709594],\n",
       "       [ 1.90516596],\n",
       "       [ 1.82844834],\n",
       "       [ 1.89742889],\n",
       "       [ 1.98951174],\n",
       "       [ 1.8744351 ],\n",
       "       [ 1.5755193 ],\n",
       "       [ 1.55252572],\n",
       "       [ 1.48354516],\n",
       "       [ 1.5755193 ],\n",
       "       [ 1.55252572],\n",
       "       [ 1.51416691],\n",
       "       [ 0.94684752],\n",
       "       [ 0.84724522],\n",
       "       [ 0.09597776],\n",
       "       [ 0.57895096],\n",
       "       [-0.02672724],\n",
       "       [ 0.54059215],\n",
       "       [ 0.77052739],\n",
       "       [ 0.93921936],\n",
       "       [ 1.02356535],\n",
       "       [ 1.06955252],\n",
       "       [ 1.11553949],\n",
       "       [ 1.22287906],\n",
       "       [ 1.1921484 ],\n",
       "       [ 1.22287906],\n",
       "       [ 1.17689188],\n",
       "       [ 1.1538983 ],\n",
       "       [ 1.3914619 ],\n",
       "       [ 1.42219277],\n",
       "       [ 1.56015387],\n",
       "       [ 1.75183922],\n",
       "       [ 1.77483301],\n",
       "       [ 1.69811498],\n",
       "       [ 1.71348062],\n",
       "       [ 1.75183922],\n",
       "       [ 1.84381357],\n",
       "       [ 2.00476847],\n",
       "       [ 1.88980074],\n",
       "       [ 2.01250553],\n",
       "       [ 1.79782639],\n",
       "       [ 1.63687149],\n",
       "       [ 1.62150627],\n",
       "       [ 1.59077561],\n",
       "       [ 1.49880147],\n",
       "       [ 1.54478865],\n",
       "       [ 1.53716028],\n",
       "       [ 1.59077561],\n",
       "       [ 1.53716028],\n",
       "       [ 1.60614104],\n",
       "       [ 1.64450006],\n",
       "       [ 1.59077561],\n",
       "       [ 1.65212822],\n",
       "       [ 1.86680694],\n",
       "       [ 1.83618541],\n",
       "       [ 1.88980074],\n",
       "       [ 1.97414652],\n",
       "       [ 2.08911424],\n",
       "       [ 2.13510142],\n",
       "       [ 2.31142154],\n",
       "       [ 2.49536982],\n",
       "       [ 2.27306252],\n",
       "       [ 2.39576732],\n",
       "       [ 2.16583186],\n",
       "       [ 1.97414652],\n",
       "       [ 1.85917879],\n",
       "       [ 1.82082019],\n",
       "       [ 1.78246117],\n",
       "       [ 1.78246117],\n",
       "       [ 1.90516596],\n",
       "       [ 1.82844834],\n",
       "       [ 1.79019824],\n",
       "       [ 1.9357875 ],\n",
       "       [ 1.94341607],\n",
       "       [ 1.92815934],\n",
       "       [ 1.91279412],\n",
       "       [ 2.11973619],\n",
       "       [ 1.88217258],\n",
       "       [ 2.06612086],\n",
       "       [ 2.08148609],\n",
       "       [ 2.08911424],\n",
       "       [ 2.05075522],\n",
       "       [ 2.20408197],\n",
       "       [ 2.33441492],\n",
       "       [ 2.28079959],\n",
       "       [ 2.00476847],\n",
       "       [ 2.02013369],\n",
       "       [ 1.74410215],\n",
       "       [ 1.79782639],\n",
       "       [ 1.97414652],\n",
       "       [ 1.79019824],\n",
       "       [ 1.82844834],\n",
       "       [ 1.80545455],\n",
       "       [ 1.81319162],\n",
       "       [ 1.79782639],\n",
       "       [ 1.78246117],\n",
       "       [ 1.74410215],\n",
       "       [ 1.72110877],\n",
       "       [ 1.58314746],\n",
       "       [ 1.71348062],\n",
       "       [ 1.64450006],\n",
       "       [ 1.59077561],\n",
       "       [ 1.69048682],\n",
       "       [ 1.63687149],\n",
       "       [ 1.13090492],\n",
       "       [ 1.32248135],\n",
       "       [ 1.56015387],\n",
       "       [ 1.56778203],\n",
       "       [ 1.62913442],\n",
       "       [ 1.62913442],\n",
       "       [ 1.82082019],\n",
       "       [ 1.84381357],\n",
       "       [ 1.80545455],\n",
       "       [ 1.78246117],\n",
       "       [ 1.69811498],\n",
       "       [ 1.69048682],\n",
       "       [ 1.66749344],\n",
       "       [ 1.62150627],\n",
       "       [ 1.58314746],\n",
       "       [ 1.55252572],\n",
       "       [ 1.5755193 ],\n",
       "       [ 1.66749344],\n",
       "       [ 1.59851289],\n",
       "       [ 1.75183922],\n",
       "       [ 1.91279412],\n",
       "       [ 1.88217258],\n",
       "       [ 2.15809479],\n",
       "       [ 1.78246117],\n",
       "       [ 1.79782639],\n",
       "       [ 1.75183922],\n",
       "       [ 1.75946737],\n",
       "       [ 2.00476847],\n",
       "       [ 1.95115314],\n",
       "       [ 2.02013369],\n",
       "       [ 1.80545455],\n",
       "       [ 1.88217258],\n",
       "       [ 2.14272957],\n",
       "       [ 2.05075522],\n",
       "       [ 1.98951174],\n",
       "       [ 1.8744351 ],\n",
       "       [ 2.02776184]])"
      ]
     },
     "execution_count": 43,
     "metadata": {},
     "output_type": "execute_result"
    }
   ],
   "source": [
    "train[0][1]"
   ]
  },
  {
   "cell_type": "code",
   "execution_count": 1,
   "metadata": {},
   "outputs": [
    {
     "name": "stderr",
     "output_type": "stream",
     "text": [
      "c:\\Users\\CLE\\AppData\\Local\\miniforge3\\envs\\test\\lib\\site-packages\\tqdm\\auto.py:22: TqdmWarning: IProgress not found. Please update jupyter and ipywidgets. See https://ipywidgets.readthedocs.io/en/stable/user_install.html\n",
      "  from .autonotebook import tqdm as notebook_tqdm\n"
     ]
    }
   ],
   "source": [
    "import torch\n",
    "import torch.nn as nn\n",
    "import torch.nn.functional as F\n",
    "import os\n",
    "import numpy as np\n",
    "import pandas as pd\n",
    "\n",
    "from exp.exp_informer import Exp_Informer\n",
    "\n",
    "from utils.masking import TriangularCausalMask, ProbMask\n",
    "from models.encoder import Encoder, EncoderLayer, ConvLayer, EncoderStack\n",
    "from models.decoder import Decoder, DecoderLayer\n",
    "from models.attn import FullAttention, ProbAttention, AttentionLayer\n",
    "from models.embed import DataEmbedding\n",
    "\n",
    "from torch.utils.data import Dataset, DataLoader\n",
    "from sklearn.preprocessing import StandardScaler\n",
    "\n",
    "from utils.tools import StandardScaler\n",
    "from utils.timefeatures import time_features\n",
    "\n",
    "from data.data_loader import Dataset_ETT_hour, Dataset_ETT_minute, Dataset_Custom, Dataset_Pred\n",
    "from exp.exp_basic import Exp_Basic\n",
    "from models.model import Informer, InformerStack\n",
    "\n",
    "from utils.tools import EarlyStopping, adjust_learning_rate\n",
    "from utils.metrics import metric"
   ]
  },
  {
   "cell_type": "code",
   "execution_count": 2,
   "metadata": {},
   "outputs": [],
   "source": [
    "# Create dataset\n",
    "df_raw = pd.read_csv('data/ETT/SRL_NEG_00_04.csv')\n",
    "\n",
    "train =  Dataset_Custom('data/ETT/', freq= 'd', data_path='SRL_NEG_00_04.csv', target='capacity_price')\n",
    "test =  Dataset_Custom('data/ETT/', freq= 'd', data_path='SRL_NEG_00_04.csv', target='capacity_price',flag='test')\n",
    "vali =  Dataset_Custom('data/ETT/', freq= 'd', data_path='SRL_NEG_00_04.csv', target='capacity_price', flag='val')"
   ]
  },
  {
   "cell_type": "code",
   "execution_count": 3,
   "metadata": {},
   "outputs": [
    {
     "data": {
      "text/plain": [
       "192"
      ]
     },
     "execution_count": 3,
     "metadata": {},
     "output_type": "execute_result"
    }
   ],
   "source": [
    "# seq_x\n",
    "len(train[0][0]) #seq_len = 384\n",
    "# seq_y\n",
    "len(train[0][1]) #label_len = 192\n"
   ]
  },
  {
   "cell_type": "code",
   "execution_count": 4,
   "metadata": {},
   "outputs": [],
   "source": [
    "train_loader = DataLoader(train, batch_size=2)"
   ]
  },
  {
   "cell_type": "code",
   "execution_count": 5,
   "metadata": {},
   "outputs": [
    {
     "name": "stdout",
     "output_type": "stream",
     "text": [
      "tensor([[[ 8.2929e-02],\n",
      "         [ 4.7766e-01],\n",
      "         [ 1.7589e+00],\n",
      "         [ 7.8655e-01],\n",
      "         [ 1.1257e-01],\n",
      "         [-9.2156e-02],\n",
      "         [-1.8823e-01],\n",
      "         [-2.2989e-01],\n",
      "         [-2.0961e-01],\n",
      "         [-2.2929e-01],\n",
      "         [-2.6144e-01],\n",
      "         [-2.7479e-01],\n",
      "         [-2.8179e-01],\n",
      "         [-2.9053e-01],\n",
      "         [ 6.9259e-02],\n",
      "         [ 3.3172e-01],\n",
      "         [-2.6431e-02],\n",
      "         [-1.9670e-01],\n",
      "         [ 2.0738e-01],\n",
      "         [-8.0400e-02],\n",
      "         [-2.2601e-01],\n",
      "         [ 6.9259e-02],\n",
      "         [-7.2909e-02],\n",
      "         [-1.5903e-01],\n",
      "         [-1.7680e-01],\n",
      "         [-1.8183e-01],\n",
      "         [-2.1355e-01],\n",
      "         [-2.4165e-01],\n",
      "         [-2.3153e-01],\n",
      "         [-2.3487e-01],\n",
      "         [-2.1387e-01],\n",
      "         [-2.4242e-01],\n",
      "         [-2.5281e-01],\n",
      "         [-2.2054e-01],\n",
      "         [-2.6155e-01],\n",
      "         [-2.8578e-01],\n",
      "         [-2.7621e-01],\n",
      "         [-2.5882e-01],\n",
      "         [-2.5882e-01],\n",
      "         [-2.6565e-01],\n",
      "         [-2.4088e-01],\n",
      "         [-2.3695e-01],\n",
      "         [-2.6363e-01],\n",
      "         [-1.9802e-01],\n",
      "         [-2.3153e-01],\n",
      "         [-2.5598e-01],\n",
      "         [-2.3525e-01],\n",
      "         [-2.6298e-01],\n",
      "         [-2.6429e-01],\n",
      "         [-2.6292e-01],\n",
      "         [-2.6123e-01],\n",
      "         [ 3.1778e-01],\n",
      "         [-1.9616e-01],\n",
      "         [ 1.4579e-02],\n",
      "         [-9.9319e-02],\n",
      "         [-1.7505e-01],\n",
      "         [ 8.0530e-01],\n",
      "         [ 1.0382e-01],\n",
      "         [-2.1639e-01],\n",
      "         [-2.2344e-01],\n",
      "         [-2.1447e-01],\n",
      "         [-2.4608e-01],\n",
      "         [-2.6248e-01],\n",
      "         [-2.6691e-01],\n",
      "         [-2.5204e-01],\n",
      "         [-2.6188e-01],\n",
      "         [-2.6079e-01],\n",
      "         [-2.6385e-01],\n",
      "         [-2.7151e-01],\n",
      "         [-2.7069e-01],\n",
      "         [-2.8332e-01],\n",
      "         [-2.8129e-01],\n",
      "         [-1.3579e-01],\n",
      "         [-1.9320e-01],\n",
      "         [-2.5882e-01],\n",
      "         [-2.7353e-01],\n",
      "         [-2.8857e-01],\n",
      "         [-2.9272e-01],\n",
      "         [-2.9294e-01],\n",
      "         [-2.4898e-01],\n",
      "         [-1.3787e-01],\n",
      "         [-3.5748e-03],\n",
      "         [-7.4713e-02],\n",
      "         [-2.5570e-01],\n",
      "         [-2.8261e-01],\n",
      "         [-2.9228e-01],\n",
      "         [-2.8944e-01],\n",
      "         [-2.9912e-01],\n",
      "         [-3.0256e-01],\n",
      "         [-2.9360e-01],\n",
      "         [-2.9097e-01],\n",
      "         [-2.9710e-01],\n",
      "         [-2.9950e-01],\n",
      "         [-3.0639e-01],\n",
      "         [-2.7167e-01],\n",
      "         [-1.3661e-01],\n",
      "         [-2.4471e-01],\n",
      "         [-2.3421e-01],\n",
      "         [ 2.8809e-01],\n",
      "         [-7.8377e-02],\n",
      "         [-9.2593e-02],\n",
      "         [-1.8954e-01],\n",
      "         [-2.0764e-01],\n",
      "         [-2.2601e-01],\n",
      "         [-2.4154e-01],\n",
      "         [-2.5860e-01],\n",
      "         [-2.3804e-01],\n",
      "         [-2.6374e-01],\n",
      "         [-1.8205e-01],\n",
      "         [-2.1540e-01],\n",
      "         [-1.5925e-01],\n",
      "         [-2.3695e-01],\n",
      "         [ 5.2855e-02],\n",
      "         [-6.7441e-02],\n",
      "         [-1.8227e-01],\n",
      "         [-1.9780e-01],\n",
      "         [-1.6198e-01],\n",
      "         [-2.2049e-01],\n",
      "         [-2.4023e-01],\n",
      "         [-2.0961e-01],\n",
      "         [-2.1136e-01],\n",
      "         [-2.4777e-01],\n",
      "         [-2.6861e-01],\n",
      "         [-2.7118e-01],\n",
      "         [-2.8069e-01],\n",
      "         [-2.8332e-01],\n",
      "         [-2.7522e-01],\n",
      "         [-2.6669e-01],\n",
      "         [-2.7960e-01],\n",
      "         [-2.9053e-01],\n",
      "         [ 6.9259e-02],\n",
      "         [ 8.1944e-02],\n",
      "         [ 4.1919e-02],\n",
      "         [ 1.6221e-01],\n",
      "         [-6.1973e-02],\n",
      "         [-1.8593e-01],\n",
      "         [-2.5795e-01],\n",
      "         [-2.7446e-01],\n",
      "         [-2.8244e-01],\n",
      "         [-2.9436e-01],\n",
      "         [-2.5652e-01],\n",
      "         [-2.6713e-01],\n",
      "         [-2.7752e-01],\n",
      "         [-2.9584e-01],\n",
      "         [-3.0333e-01],\n",
      "         [-3.1295e-01],\n",
      "         [-2.3744e-01],\n",
      "         [-2.6429e-01],\n",
      "         [-2.6303e-01],\n",
      "         [-2.7976e-01],\n",
      "         [-3.0366e-01],\n",
      "         [-3.1897e-01],\n",
      "         [-2.8222e-01],\n",
      "         [-2.7796e-01],\n",
      "         [-2.8873e-01],\n",
      "         [-5.2896e-02],\n",
      "         [-1.4946e-01],\n",
      "         [-2.0737e-01],\n",
      "         [-2.4788e-01],\n",
      "         [-2.7719e-01],\n",
      "         [-3.0705e-01],\n",
      "         [-2.7719e-01],\n",
      "         [ 2.0742e+00],\n",
      "         [ 6.4884e-02],\n",
      "         [-1.3984e-01],\n",
      "         [-2.1070e-01],\n",
      "         [-1.9501e-01],\n",
      "         [-2.0594e-01],\n",
      "         [-2.1087e-01],\n",
      "         [ 1.4579e-02],\n",
      "         [-1.2212e-01],\n",
      "         [-1.8730e-01],\n",
      "         [ 1.2394e-01],\n",
      "         [-1.0375e-01],\n",
      "         [-1.7133e-01],\n",
      "         [-1.9867e-01],\n",
      "         [-6.1973e-02],\n",
      "         [-1.4946e-01],\n",
      "         [-2.0398e-01],\n",
      "         [-2.4023e-01],\n",
      "         [-2.1661e-01],\n",
      "         [ 1.9677e-01],\n",
      "         [ 4.5200e-02],\n",
      "         [ 1.1215e+00],\n",
      "         [ 6.2459e-01],\n",
      "         [ 7.2542e-01],\n",
      "         [ 6.9846e-01],\n",
      "         [ 3.3719e-01],\n",
      "         [ 1.7862e-01],\n",
      "         [ 7.2542e-01],\n",
      "         [ 5.4032e-01],\n",
      "         [ 2.7021e-01],\n",
      "         [ 8.8397e-02],\n",
      "         [ 1.4579e-02],\n",
      "         [-5.3005e-02],\n",
      "         [-1.2146e-01],\n",
      "         [-1.2409e-01],\n",
      "         [-7.2930e-03],\n",
      "         [-9.2703e-02],\n",
      "         [-1.6953e-01],\n",
      "         [-2.0261e-01],\n",
      "         [-1.6193e-01],\n",
      "         [ 4.5338e-01],\n",
      "         [ 4.3151e-01],\n",
      "         [ 3.1226e-01],\n",
      "         [ 2.2171e-01],\n",
      "         [ 7.1391e-02],\n",
      "         [ 2.5493e-03],\n",
      "         [-9.2047e-02],\n",
      "         [-1.3940e-01],\n",
      "         [-1.5914e-01],\n",
      "         [-7.0722e-02],\n",
      "         [-1.5493e-01],\n",
      "         [-1.9200e-01],\n",
      "         [ 1.8125e+01],\n",
      "         [ 1.0339e+00],\n",
      "         [ 2.6337e-01],\n",
      "         [ 6.0510e-02],\n",
      "         [ 8.6373e-02],\n",
      "         [-2.4845e-02],\n",
      "         [-1.2174e-01],\n",
      "         [-1.5383e-01],\n",
      "         [-8.7125e-02],\n",
      "         [-6.6785e-02],\n",
      "         [ 8.5663e-02],\n",
      "         [-6.1973e-02],\n",
      "         [-1.4399e-01],\n",
      "         [-1.9320e-01],\n",
      "         [-2.1453e-01],\n",
      "         [-2.3039e-01],\n",
      "         [-2.1890e-01],\n",
      "         [-2.1573e-01],\n",
      "         [-1.9266e-01],\n",
      "         [-2.3039e-01],\n",
      "         [-2.5308e-01],\n",
      "         [-2.6221e-01],\n",
      "         [-2.7369e-01],\n",
      "         [-2.7697e-01],\n",
      "         [-2.5707e-01],\n",
      "         [-2.5882e-01],\n",
      "         [-2.8129e-01],\n",
      "         [-2.9983e-01],\n",
      "         [-3.1077e-01],\n",
      "         [-3.2438e-01],\n",
      "         [-3.2597e-01],\n",
      "         [-3.2711e-01],\n",
      "         [-3.3083e-01],\n",
      "         [-3.3089e-01],\n",
      "         [-3.3657e-01],\n",
      "         [-3.4330e-01],\n",
      "         [-3.4472e-01],\n",
      "         [-3.4390e-01],\n",
      "         [-3.3045e-01],\n",
      "         [-3.2405e-01],\n",
      "         [-3.3242e-01],\n",
      "         [-3.2772e-01],\n",
      "         [-2.4198e-01],\n",
      "         [-1.7166e-01],\n",
      "         [-1.2759e-01],\n",
      "         [ 1.1005e-01],\n",
      "         [-1.2978e-01],\n",
      "         [-2.3695e-01],\n",
      "         [-2.7304e-01],\n",
      "         [-2.9764e-01],\n",
      "         [-3.1897e-01],\n",
      "         [-2.0414e-01],\n",
      "         [-2.0966e-01],\n",
      "         [-2.4460e-01],\n",
      "         [-2.8009e-01],\n",
      "         [-2.9688e-01],\n",
      "         [-1.3475e-01],\n",
      "         [-2.2098e-01],\n",
      "         [-1.0943e-01],\n",
      "         [-1.8774e-01],\n",
      "         [-2.2328e-01],\n",
      "         [-2.7118e-01],\n",
      "         [-2.9841e-01],\n",
      "         [-3.1273e-01],\n",
      "         [-2.8616e-01],\n",
      "         [-2.3640e-01],\n",
      "         [-3.6437e-02],\n",
      "         [-8.3899e-02],\n",
      "         [-2.0015e-01],\n",
      "         [-2.5937e-01],\n",
      "         [-2.8474e-01],\n",
      "         [-3.0579e-01],\n",
      "         [-2.5089e-01],\n",
      "         [-2.1508e-01],\n",
      "         [-2.1781e-01],\n",
      "         [ 2.8448e-01],\n",
      "         [-1.3125e-01],\n",
      "         [-1.7789e-01],\n",
      "         [-2.4110e-01],\n",
      "         [-2.5991e-01],\n",
      "         [-2.4816e-01],\n",
      "         [-2.3788e-01],\n",
      "         [-2.5882e-01],\n",
      "         [-2.8616e-01],\n",
      "         [-2.4471e-01],\n",
      "         [-2.7364e-01],\n",
      "         [-2.4110e-01],\n",
      "         [-2.2601e-01],\n",
      "         [-2.2886e-01],\n",
      "         [-2.4220e-01],\n",
      "         [-2.5882e-01],\n",
      "         [-2.6637e-01],\n",
      "         [-2.8151e-01],\n",
      "         [-2.7615e-01],\n",
      "         [-2.3695e-01],\n",
      "         [-2.3531e-01],\n",
      "         [-2.6571e-01],\n",
      "         [-2.8244e-01],\n",
      "         [-2.7151e-01],\n",
      "         [-2.8703e-01],\n",
      "         [-2.9190e-01],\n",
      "         [-2.6626e-01],\n",
      "         [-2.7845e-01],\n",
      "         [-2.8047e-01],\n",
      "         [-1.4104e-01],\n",
      "         [-1.4263e-01],\n",
      "         [-1.6586e-01],\n",
      "         [-1.3470e-01],\n",
      "         [-1.1545e-01],\n",
      "         [-1.5701e-01],\n",
      "         [-1.9539e-01],\n",
      "         [-2.0983e-01],\n",
      "         [-5.1037e-02],\n",
      "         [ 3.7547e-01],\n",
      "         [ 2.4203e-02],\n",
      "         [-1.0528e-01],\n",
      "         [-1.1118e-01],\n",
      "         [-5.9512e-02],\n",
      "         [-9.0680e-02],\n",
      "         [ 1.0358e+00],\n",
      "         [ 6.5389e-01],\n",
      "         [ 3.4266e-01],\n",
      "         [ 3.3988e+00],\n",
      "         [ 9.2773e-01],\n",
      "         [ 3.7377e-01],\n",
      "         [ 8.3756e-01],\n",
      "         [ 5.7116e-01],\n",
      "         [ 2.6414e-01],\n",
      "         [ 1.2744e-01],\n",
      "         [ 1.7862e-01],\n",
      "         [ 2.2991e-01],\n",
      "         [ 1.0535e+00],\n",
      "         [ 1.3816e+00],\n",
      "         [ 4.3397e+00],\n",
      "         [ 7.8338e+00],\n",
      "         [ 2.8371e+00],\n",
      "         [ 1.8872e+00],\n",
      "         [ 1.2182e+00],\n",
      "         [ 9.3834e-01],\n",
      "         [ 4.9426e+00],\n",
      "         [ 3.9379e+00],\n",
      "         [ 3.1632e+00],\n",
      "         [ 2.0440e+00],\n",
      "         [ 1.2175e+00],\n",
      "         [ 9.6601e-01],\n",
      "         [ 6.3530e-01],\n",
      "         [ 8.1793e-01],\n",
      "         [ 6.2738e-01],\n",
      "         [ 5.4497e-01],\n",
      "         [ 4.9576e-01],\n",
      "         [ 8.7332e-01],\n",
      "         [ 1.3816e+00],\n",
      "         [ 6.5980e-01],\n",
      "         [ 3.4014e-01],\n",
      "         [ 1.3816e-01],\n",
      "         [ 2.9733e-01],\n",
      "         [ 3.2910e-01],\n",
      "         [ 1.6932e+00],\n",
      "         [ 1.0535e+00],\n",
      "         [ 3.3719e-01],\n",
      "         [ 1.2394e-01],\n",
      "         [ 2.1414e-02],\n",
      "         [-6.1973e-02],\n",
      "         [ 9.9387e-02],\n",
      "         [ 5.4440e-02],\n",
      "         [ 4.7387e-02],\n",
      "         [-3.5727e-02],\n",
      "         [-7.0065e-02],\n",
      "         [ 1.9010e-01],\n",
      "         [ 4.5202e-01]],\n",
      "\n",
      "        [[ 4.7766e-01],\n",
      "         [ 1.7589e+00],\n",
      "         [ 7.8655e-01],\n",
      "         [ 1.1257e-01],\n",
      "         [-9.2156e-02],\n",
      "         [-1.8823e-01],\n",
      "         [-2.2989e-01],\n",
      "         [-2.0961e-01],\n",
      "         [-2.2929e-01],\n",
      "         [-2.6144e-01],\n",
      "         [-2.7479e-01],\n",
      "         [-2.8179e-01],\n",
      "         [-2.9053e-01],\n",
      "         [ 6.9259e-02],\n",
      "         [ 3.3172e-01],\n",
      "         [-2.6431e-02],\n",
      "         [-1.9670e-01],\n",
      "         [ 2.0738e-01],\n",
      "         [-8.0400e-02],\n",
      "         [-2.2601e-01],\n",
      "         [ 6.9259e-02],\n",
      "         [-7.2909e-02],\n",
      "         [-1.5903e-01],\n",
      "         [-1.7680e-01],\n",
      "         [-1.8183e-01],\n",
      "         [-2.1355e-01],\n",
      "         [-2.4165e-01],\n",
      "         [-2.3153e-01],\n",
      "         [-2.3487e-01],\n",
      "         [-2.1387e-01],\n",
      "         [-2.4242e-01],\n",
      "         [-2.5281e-01],\n",
      "         [-2.2054e-01],\n",
      "         [-2.6155e-01],\n",
      "         [-2.8578e-01],\n",
      "         [-2.7621e-01],\n",
      "         [-2.5882e-01],\n",
      "         [-2.5882e-01],\n",
      "         [-2.6565e-01],\n",
      "         [-2.4088e-01],\n",
      "         [-2.3695e-01],\n",
      "         [-2.6363e-01],\n",
      "         [-1.9802e-01],\n",
      "         [-2.3153e-01],\n",
      "         [-2.5598e-01],\n",
      "         [-2.3525e-01],\n",
      "         [-2.6298e-01],\n",
      "         [-2.6429e-01],\n",
      "         [-2.6292e-01],\n",
      "         [-2.6123e-01],\n",
      "         [ 3.1778e-01],\n",
      "         [-1.9616e-01],\n",
      "         [ 1.4579e-02],\n",
      "         [-9.9319e-02],\n",
      "         [-1.7505e-01],\n",
      "         [ 8.0530e-01],\n",
      "         [ 1.0382e-01],\n",
      "         [-2.1639e-01],\n",
      "         [-2.2344e-01],\n",
      "         [-2.1447e-01],\n",
      "         [-2.4608e-01],\n",
      "         [-2.6248e-01],\n",
      "         [-2.6691e-01],\n",
      "         [-2.5204e-01],\n",
      "         [-2.6188e-01],\n",
      "         [-2.6079e-01],\n",
      "         [-2.6385e-01],\n",
      "         [-2.7151e-01],\n",
      "         [-2.7069e-01],\n",
      "         [-2.8332e-01],\n",
      "         [-2.8129e-01],\n",
      "         [-1.3579e-01],\n",
      "         [-1.9320e-01],\n",
      "         [-2.5882e-01],\n",
      "         [-2.7353e-01],\n",
      "         [-2.8857e-01],\n",
      "         [-2.9272e-01],\n",
      "         [-2.9294e-01],\n",
      "         [-2.4898e-01],\n",
      "         [-1.3787e-01],\n",
      "         [-3.5748e-03],\n",
      "         [-7.4713e-02],\n",
      "         [-2.5570e-01],\n",
      "         [-2.8261e-01],\n",
      "         [-2.9228e-01],\n",
      "         [-2.8944e-01],\n",
      "         [-2.9912e-01],\n",
      "         [-3.0256e-01],\n",
      "         [-2.9360e-01],\n",
      "         [-2.9097e-01],\n",
      "         [-2.9710e-01],\n",
      "         [-2.9950e-01],\n",
      "         [-3.0639e-01],\n",
      "         [-2.7167e-01],\n",
      "         [-1.3661e-01],\n",
      "         [-2.4471e-01],\n",
      "         [-2.3421e-01],\n",
      "         [ 2.8809e-01],\n",
      "         [-7.8377e-02],\n",
      "         [-9.2593e-02],\n",
      "         [-1.8954e-01],\n",
      "         [-2.0764e-01],\n",
      "         [-2.2601e-01],\n",
      "         [-2.4154e-01],\n",
      "         [-2.5860e-01],\n",
      "         [-2.3804e-01],\n",
      "         [-2.6374e-01],\n",
      "         [-1.8205e-01],\n",
      "         [-2.1540e-01],\n",
      "         [-1.5925e-01],\n",
      "         [-2.3695e-01],\n",
      "         [ 5.2855e-02],\n",
      "         [-6.7441e-02],\n",
      "         [-1.8227e-01],\n",
      "         [-1.9780e-01],\n",
      "         [-1.6198e-01],\n",
      "         [-2.2049e-01],\n",
      "         [-2.4023e-01],\n",
      "         [-2.0961e-01],\n",
      "         [-2.1136e-01],\n",
      "         [-2.4777e-01],\n",
      "         [-2.6861e-01],\n",
      "         [-2.7118e-01],\n",
      "         [-2.8069e-01],\n",
      "         [-2.8332e-01],\n",
      "         [-2.7522e-01],\n",
      "         [-2.6669e-01],\n",
      "         [-2.7960e-01],\n",
      "         [-2.9053e-01],\n",
      "         [ 6.9259e-02],\n",
      "         [ 8.1944e-02],\n",
      "         [ 4.1919e-02],\n",
      "         [ 1.6221e-01],\n",
      "         [-6.1973e-02],\n",
      "         [-1.8593e-01],\n",
      "         [-2.5795e-01],\n",
      "         [-2.7446e-01],\n",
      "         [-2.8244e-01],\n",
      "         [-2.9436e-01],\n",
      "         [-2.5652e-01],\n",
      "         [-2.6713e-01],\n",
      "         [-2.7752e-01],\n",
      "         [-2.9584e-01],\n",
      "         [-3.0333e-01],\n",
      "         [-3.1295e-01],\n",
      "         [-2.3744e-01],\n",
      "         [-2.6429e-01],\n",
      "         [-2.6303e-01],\n",
      "         [-2.7976e-01],\n",
      "         [-3.0366e-01],\n",
      "         [-3.1897e-01],\n",
      "         [-2.8222e-01],\n",
      "         [-2.7796e-01],\n",
      "         [-2.8873e-01],\n",
      "         [-5.2896e-02],\n",
      "         [-1.4946e-01],\n",
      "         [-2.0737e-01],\n",
      "         [-2.4788e-01],\n",
      "         [-2.7719e-01],\n",
      "         [-3.0705e-01],\n",
      "         [-2.7719e-01],\n",
      "         [ 2.0742e+00],\n",
      "         [ 6.4884e-02],\n",
      "         [-1.3984e-01],\n",
      "         [-2.1070e-01],\n",
      "         [-1.9501e-01],\n",
      "         [-2.0594e-01],\n",
      "         [-2.1087e-01],\n",
      "         [ 1.4579e-02],\n",
      "         [-1.2212e-01],\n",
      "         [-1.8730e-01],\n",
      "         [ 1.2394e-01],\n",
      "         [-1.0375e-01],\n",
      "         [-1.7133e-01],\n",
      "         [-1.9867e-01],\n",
      "         [-6.1973e-02],\n",
      "         [-1.4946e-01],\n",
      "         [-2.0398e-01],\n",
      "         [-2.4023e-01],\n",
      "         [-2.1661e-01],\n",
      "         [ 1.9677e-01],\n",
      "         [ 4.5200e-02],\n",
      "         [ 1.1215e+00],\n",
      "         [ 6.2459e-01],\n",
      "         [ 7.2542e-01],\n",
      "         [ 6.9846e-01],\n",
      "         [ 3.3719e-01],\n",
      "         [ 1.7862e-01],\n",
      "         [ 7.2542e-01],\n",
      "         [ 5.4032e-01],\n",
      "         [ 2.7021e-01],\n",
      "         [ 8.8397e-02],\n",
      "         [ 1.4579e-02],\n",
      "         [-5.3005e-02],\n",
      "         [-1.2146e-01],\n",
      "         [-1.2409e-01],\n",
      "         [-7.2930e-03],\n",
      "         [-9.2703e-02],\n",
      "         [-1.6953e-01],\n",
      "         [-2.0261e-01],\n",
      "         [-1.6193e-01],\n",
      "         [ 4.5338e-01],\n",
      "         [ 4.3151e-01],\n",
      "         [ 3.1226e-01],\n",
      "         [ 2.2171e-01],\n",
      "         [ 7.1391e-02],\n",
      "         [ 2.5493e-03],\n",
      "         [-9.2047e-02],\n",
      "         [-1.3940e-01],\n",
      "         [-1.5914e-01],\n",
      "         [-7.0722e-02],\n",
      "         [-1.5493e-01],\n",
      "         [-1.9200e-01],\n",
      "         [ 1.8125e+01],\n",
      "         [ 1.0339e+00],\n",
      "         [ 2.6337e-01],\n",
      "         [ 6.0510e-02],\n",
      "         [ 8.6373e-02],\n",
      "         [-2.4845e-02],\n",
      "         [-1.2174e-01],\n",
      "         [-1.5383e-01],\n",
      "         [-8.7125e-02],\n",
      "         [-6.6785e-02],\n",
      "         [ 8.5663e-02],\n",
      "         [-6.1973e-02],\n",
      "         [-1.4399e-01],\n",
      "         [-1.9320e-01],\n",
      "         [-2.1453e-01],\n",
      "         [-2.3039e-01],\n",
      "         [-2.1890e-01],\n",
      "         [-2.1573e-01],\n",
      "         [-1.9266e-01],\n",
      "         [-2.3039e-01],\n",
      "         [-2.5308e-01],\n",
      "         [-2.6221e-01],\n",
      "         [-2.7369e-01],\n",
      "         [-2.7697e-01],\n",
      "         [-2.5707e-01],\n",
      "         [-2.5882e-01],\n",
      "         [-2.8129e-01],\n",
      "         [-2.9983e-01],\n",
      "         [-3.1077e-01],\n",
      "         [-3.2438e-01],\n",
      "         [-3.2597e-01],\n",
      "         [-3.2711e-01],\n",
      "         [-3.3083e-01],\n",
      "         [-3.3089e-01],\n",
      "         [-3.3657e-01],\n",
      "         [-3.4330e-01],\n",
      "         [-3.4472e-01],\n",
      "         [-3.4390e-01],\n",
      "         [-3.3045e-01],\n",
      "         [-3.2405e-01],\n",
      "         [-3.3242e-01],\n",
      "         [-3.2772e-01],\n",
      "         [-2.4198e-01],\n",
      "         [-1.7166e-01],\n",
      "         [-1.2759e-01],\n",
      "         [ 1.1005e-01],\n",
      "         [-1.2978e-01],\n",
      "         [-2.3695e-01],\n",
      "         [-2.7304e-01],\n",
      "         [-2.9764e-01],\n",
      "         [-3.1897e-01],\n",
      "         [-2.0414e-01],\n",
      "         [-2.0966e-01],\n",
      "         [-2.4460e-01],\n",
      "         [-2.8009e-01],\n",
      "         [-2.9688e-01],\n",
      "         [-1.3475e-01],\n",
      "         [-2.2098e-01],\n",
      "         [-1.0943e-01],\n",
      "         [-1.8774e-01],\n",
      "         [-2.2328e-01],\n",
      "         [-2.7118e-01],\n",
      "         [-2.9841e-01],\n",
      "         [-3.1273e-01],\n",
      "         [-2.8616e-01],\n",
      "         [-2.3640e-01],\n",
      "         [-3.6437e-02],\n",
      "         [-8.3899e-02],\n",
      "         [-2.0015e-01],\n",
      "         [-2.5937e-01],\n",
      "         [-2.8474e-01],\n",
      "         [-3.0579e-01],\n",
      "         [-2.5089e-01],\n",
      "         [-2.1508e-01],\n",
      "         [-2.1781e-01],\n",
      "         [ 2.8448e-01],\n",
      "         [-1.3125e-01],\n",
      "         [-1.7789e-01],\n",
      "         [-2.4110e-01],\n",
      "         [-2.5991e-01],\n",
      "         [-2.4816e-01],\n",
      "         [-2.3788e-01],\n",
      "         [-2.5882e-01],\n",
      "         [-2.8616e-01],\n",
      "         [-2.4471e-01],\n",
      "         [-2.7364e-01],\n",
      "         [-2.4110e-01],\n",
      "         [-2.2601e-01],\n",
      "         [-2.2886e-01],\n",
      "         [-2.4220e-01],\n",
      "         [-2.5882e-01],\n",
      "         [-2.6637e-01],\n",
      "         [-2.8151e-01],\n",
      "         [-2.7615e-01],\n",
      "         [-2.3695e-01],\n",
      "         [-2.3531e-01],\n",
      "         [-2.6571e-01],\n",
      "         [-2.8244e-01],\n",
      "         [-2.7151e-01],\n",
      "         [-2.8703e-01],\n",
      "         [-2.9190e-01],\n",
      "         [-2.6626e-01],\n",
      "         [-2.7845e-01],\n",
      "         [-2.8047e-01],\n",
      "         [-1.4104e-01],\n",
      "         [-1.4263e-01],\n",
      "         [-1.6586e-01],\n",
      "         [-1.3470e-01],\n",
      "         [-1.1545e-01],\n",
      "         [-1.5701e-01],\n",
      "         [-1.9539e-01],\n",
      "         [-2.0983e-01],\n",
      "         [-5.1037e-02],\n",
      "         [ 3.7547e-01],\n",
      "         [ 2.4203e-02],\n",
      "         [-1.0528e-01],\n",
      "         [-1.1118e-01],\n",
      "         [-5.9512e-02],\n",
      "         [-9.0680e-02],\n",
      "         [ 1.0358e+00],\n",
      "         [ 6.5389e-01],\n",
      "         [ 3.4266e-01],\n",
      "         [ 3.3988e+00],\n",
      "         [ 9.2773e-01],\n",
      "         [ 3.7377e-01],\n",
      "         [ 8.3756e-01],\n",
      "         [ 5.7116e-01],\n",
      "         [ 2.6414e-01],\n",
      "         [ 1.2744e-01],\n",
      "         [ 1.7862e-01],\n",
      "         [ 2.2991e-01],\n",
      "         [ 1.0535e+00],\n",
      "         [ 1.3816e+00],\n",
      "         [ 4.3397e+00],\n",
      "         [ 7.8338e+00],\n",
      "         [ 2.8371e+00],\n",
      "         [ 1.8872e+00],\n",
      "         [ 1.2182e+00],\n",
      "         [ 9.3834e-01],\n",
      "         [ 4.9426e+00],\n",
      "         [ 3.9379e+00],\n",
      "         [ 3.1632e+00],\n",
      "         [ 2.0440e+00],\n",
      "         [ 1.2175e+00],\n",
      "         [ 9.6601e-01],\n",
      "         [ 6.3530e-01],\n",
      "         [ 8.1793e-01],\n",
      "         [ 6.2738e-01],\n",
      "         [ 5.4497e-01],\n",
      "         [ 4.9576e-01],\n",
      "         [ 8.7332e-01],\n",
      "         [ 1.3816e+00],\n",
      "         [ 6.5980e-01],\n",
      "         [ 3.4014e-01],\n",
      "         [ 1.3816e-01],\n",
      "         [ 2.9733e-01],\n",
      "         [ 3.2910e-01],\n",
      "         [ 1.6932e+00],\n",
      "         [ 1.0535e+00],\n",
      "         [ 3.3719e-01],\n",
      "         [ 1.2394e-01],\n",
      "         [ 2.1414e-02],\n",
      "         [-6.1973e-02],\n",
      "         [ 9.9387e-02],\n",
      "         [ 5.4440e-02],\n",
      "         [ 4.7387e-02],\n",
      "         [-3.5727e-02],\n",
      "         [-7.0065e-02],\n",
      "         [ 1.9010e-01],\n",
      "         [ 4.5202e-01],\n",
      "         [ 2.1558e-01]]], dtype=torch.float64)\n"
     ]
    }
   ],
   "source": [
    "sample_loader = next(iter(train_loader))\n",
    "print(sample_loader[0])"
   ]
  },
  {
   "cell_type": "code",
   "execution_count": 8,
   "metadata": {},
   "outputs": [],
   "source": [
    "batch_x, batch_y, batch_x_mark, batch_y_mark = sample_loader"
   ]
  },
  {
   "cell_type": "code",
   "execution_count": 112,
   "metadata": {},
   "outputs": [
    {
     "data": {
      "text/plain": [
       "torch.Size([2, 144, 1])"
      ]
     },
     "execution_count": 112,
     "metadata": {},
     "output_type": "execute_result"
    }
   ],
   "source": [
    "batch_y.shape"
   ]
  },
  {
   "cell_type": "code",
   "execution_count": 113,
   "metadata": {},
   "outputs": [
    {
     "data": {
      "text/plain": [
       "torch.Size([2, 384, 1])"
      ]
     },
     "execution_count": 113,
     "metadata": {},
     "output_type": "execute_result"
    }
   ],
   "source": [
    "sample_loader[0].shape"
   ]
  },
  {
   "cell_type": "code",
   "execution_count": 114,
   "metadata": {},
   "outputs": [],
   "source": [
    "df_raw = pd.read_csv('data/ETT/ETTh1-mini.csv')\n",
    "\n",
    "df_stamp = df_raw[['date']]\n",
    "df_stamp['date'] = pd.to_datetime(df_stamp.date)\n",
    "data_stamp = time_features(df_stamp, timeenc=0, freq='d')"
   ]
  },
  {
   "cell_type": "code",
   "execution_count": 115,
   "metadata": {},
   "outputs": [],
   "source": [
    "df_scale = df_raw.iloc[:,1:]\n",
    "scaler = StandardScaler()\n",
    "scaler.fit(df_scale.values)"
   ]
  },
  {
   "cell_type": "code",
   "execution_count": 116,
   "metadata": {},
   "outputs": [],
   "source": [
    "res = scaler.transform(df_scale.values)"
   ]
  },
  {
   "cell_type": "code",
   "execution_count": 126,
   "metadata": {},
   "outputs": [
    {
     "data": {
      "text/plain": [
       "[1, 2]"
      ]
     },
     "execution_count": 126,
     "metadata": {},
     "output_type": "execute_result"
    }
   ],
   "source": [
    "[a for a in range(1,3)]"
   ]
  },
  {
   "cell_type": "code",
   "execution_count": 128,
   "metadata": {},
   "outputs": [],
   "source": [
    "class TestConv(nn.Module):\n",
    "    def __init__(self, c_in, c_out):\n",
    "        super(TestConv, self).__init__()\n",
    "        self.c_in = c_in\n",
    "        self.c_out = c_out\n",
    "        self.conv = nn.Conv1d(in_channels=c_in, out_channels=c_out, kernel_size=3, padding=1,\n",
    "                              padding_mode='circular')\n",
    "        \n",
    "    def forward(self, x):\n",
    "        x = self.conv(x)\n",
    "        return x"
   ]
  },
  {
   "cell_type": "code",
   "execution_count": 129,
   "metadata": {},
   "outputs": [],
   "source": [
    "x = torch.Tensor(range(0, 15))"
   ]
  },
  {
   "cell_type": "code",
   "execution_count": 154,
   "metadata": {},
   "outputs": [
    {
     "data": {
      "text/plain": [
       "torch.Size([2, 384, 1])"
      ]
     },
     "execution_count": 154,
     "metadata": {},
     "output_type": "execute_result"
    }
   ],
   "source": [
    "batch_x.shape"
   ]
  },
  {
   "cell_type": "code",
   "execution_count": 146,
   "metadata": {},
   "outputs": [],
   "source": [
    "d_emb = DataEmbedding(1, 512)"
   ]
  },
  {
   "cell_type": "code",
   "execution_count": 148,
   "metadata": {},
   "outputs": [
    {
     "data": {
      "text/plain": [
       "torch.Size([2, 384, 1])"
      ]
     },
     "execution_count": 148,
     "metadata": {},
     "output_type": "execute_result"
    }
   ],
   "source": [
    "batch_x.shape"
   ]
  },
  {
   "attachments": {},
   "cell_type": "markdown",
   "metadata": {},
   "source": [
    "### Plot prediction & true"
   ]
  },
  {
   "cell_type": "code",
   "execution_count": 69,
   "metadata": {},
   "outputs": [],
   "source": [
    "pred_seq_raw = np.load('results/informer_SRL_NEG_00_04_ftM_sl96_ll48_pl24_dm512_nh8_el2_dl1_df2048_atprob_fc5_ebtimeF_dtTrue_mxTrue_test_1/pred.npy')\n",
    "\n",
    "true_seq_raw = np.load('results/informer_SRL_NEG_00_04_ftM_sl96_ll48_pl24_dm512_nh8_el2_dl1_df2048_atprob_fc5_ebtimeF_dtTrue_mxTrue_test_1/true.npy')"
   ]
  },
  {
   "cell_type": "code",
   "execution_count": 79,
   "metadata": {},
   "outputs": [
    {
     "data": {
      "text/plain": [
       "128"
      ]
     },
     "execution_count": 79,
     "metadata": {},
     "output_type": "execute_result"
    }
   ],
   "source": [
    "pred_seq_raw.shape[0]"
   ]
  },
  {
   "cell_type": "code",
   "execution_count": 80,
   "metadata": {},
   "outputs": [],
   "source": [
    "class Result():\n",
    "    def __init__(self, data_path, pred_seq_raw, true_seq_raw, root_path='data/ETT'):\n",
    "        train = Dataset_Custom('data/ETT/', freq= 'd', data_path=data_path, target='capacity_price')\n",
    "        self.scaler = train.scaler\n",
    "        self.pred_len = pred_seq_raw.shape[0]\n",
    "        self.pred_raw = self.convert_seq(pred_seq_raw, inverse=False)\n",
    "        self.true_raw = self.convert_seq(true_seq_raw, inverse=False)\n",
    "        self.pred = self.convert_seq(pred_seq_raw, inverse=True)\n",
    "        self.true = self.convert_seq(true_seq_raw, inverse=True)\n",
    "    \n",
    "    def convert_seq(self, seq_raw, inverse=True):\n",
    "        if inverse: \n",
    "            seq = train.scaler.inverse_transform(seq_raw)\n",
    "        else seq = seq_raw\n",
    "        array = seq.squeeze()\n",
    "        array = np.array([np.concatenate([np.repeat(np.nan, i), array[i], np.repeat(np.nan, self.pred_len-i)]) for i in np.arange(self.pred_len)])\n",
    "        df = pd.DataFrame(array.transpose())\n",
    "        return df.mean(axis=1)"
   ]
  },
  {
   "cell_type": "code",
   "execution_count": 81,
   "metadata": {},
   "outputs": [
    {
     "ename": "UnboundLocalError",
     "evalue": "local variable 'seq' referenced before assignment",
     "output_type": "error",
     "traceback": [
      "\u001b[1;31m---------------------------------------------------------------------------\u001b[0m",
      "\u001b[1;31mUnboundLocalError\u001b[0m                         Traceback (most recent call last)",
      "Cell \u001b[1;32mIn [81], line 1\u001b[0m\n\u001b[1;32m----> 1\u001b[0m result \u001b[39m=\u001b[39m Result(data_path\u001b[39m=\u001b[39;49m\u001b[39m'\u001b[39;49m\u001b[39mSRL_NEG_00_04.csv\u001b[39;49m\u001b[39m'\u001b[39;49m, pred_seq_raw\u001b[39m=\u001b[39;49mpred_seq_raw, true_seq_raw\u001b[39m=\u001b[39;49mtrue_seq_raw)\n",
      "Cell \u001b[1;32mIn [80], line 6\u001b[0m, in \u001b[0;36mResult.__init__\u001b[1;34m(self, data_path, pred_seq_raw, true_seq_raw, root_path)\u001b[0m\n\u001b[0;32m      4\u001b[0m \u001b[39mself\u001b[39m\u001b[39m.\u001b[39mscaler \u001b[39m=\u001b[39m train\u001b[39m.\u001b[39mscaler\n\u001b[0;32m      5\u001b[0m \u001b[39mself\u001b[39m\u001b[39m.\u001b[39mpred_len \u001b[39m=\u001b[39m pred_seq_raw\u001b[39m.\u001b[39mshape[\u001b[39m0\u001b[39m]\n\u001b[1;32m----> 6\u001b[0m \u001b[39mself\u001b[39m\u001b[39m.\u001b[39mpred_raw \u001b[39m=\u001b[39m \u001b[39mself\u001b[39;49m\u001b[39m.\u001b[39;49mconvert_seq(pred_seq_raw, inverse\u001b[39m=\u001b[39;49m\u001b[39mFalse\u001b[39;49;00m)\n\u001b[0;32m      7\u001b[0m \u001b[39mself\u001b[39m\u001b[39m.\u001b[39mtrue_raw \u001b[39m=\u001b[39m \u001b[39mself\u001b[39m\u001b[39m.\u001b[39mconvert_seq(true_seq_raw, inverse\u001b[39m=\u001b[39m\u001b[39mFalse\u001b[39;00m)\n\u001b[0;32m      8\u001b[0m \u001b[39mself\u001b[39m\u001b[39m.\u001b[39mpred \u001b[39m=\u001b[39m \u001b[39mself\u001b[39m\u001b[39m.\u001b[39mconvert_seq(pred_seq_raw, inverse\u001b[39m=\u001b[39m\u001b[39mTrue\u001b[39;00m)\n",
      "Cell \u001b[1;32mIn [80], line 13\u001b[0m, in \u001b[0;36mResult.convert_seq\u001b[1;34m(self, seq_raw, inverse)\u001b[0m\n\u001b[0;32m     11\u001b[0m \u001b[39mdef\u001b[39;00m \u001b[39mconvert_seq\u001b[39m(\u001b[39mself\u001b[39m, seq_raw, inverse\u001b[39m=\u001b[39m\u001b[39mTrue\u001b[39;00m):\n\u001b[0;32m     12\u001b[0m     \u001b[39mif\u001b[39;00m inverse: seq \u001b[39m=\u001b[39m train\u001b[39m.\u001b[39mscaler\u001b[39m.\u001b[39minverse_transform(seq_raw)\n\u001b[1;32m---> 13\u001b[0m     array \u001b[39m=\u001b[39m seq\u001b[39m.\u001b[39msqueeze()\n\u001b[0;32m     14\u001b[0m     array \u001b[39m=\u001b[39m np\u001b[39m.\u001b[39marray([np\u001b[39m.\u001b[39mconcatenate([np\u001b[39m.\u001b[39mrepeat(np\u001b[39m.\u001b[39mnan, i), array[i], np\u001b[39m.\u001b[39mrepeat(np\u001b[39m.\u001b[39mnan, \u001b[39mself\u001b[39m\u001b[39m.\u001b[39mpred_len\u001b[39m-\u001b[39mi)]) \u001b[39mfor\u001b[39;00m i \u001b[39min\u001b[39;00m np\u001b[39m.\u001b[39marange(\u001b[39mself\u001b[39m\u001b[39m.\u001b[39mpred_len)])\n\u001b[0;32m     15\u001b[0m     df \u001b[39m=\u001b[39m pd\u001b[39m.\u001b[39mDataFrame(array\u001b[39m.\u001b[39mtranspose())\n",
      "\u001b[1;31mUnboundLocalError\u001b[0m: local variable 'seq' referenced before assignment"
     ]
    }
   ],
   "source": [
    "result = Result(data_path='SRL_NEG_00_04.csv', pred_seq_raw=pred_seq_raw, true_seq_raw=true_seq_raw)"
   ]
  },
  {
   "cell_type": "code",
   "execution_count": 70,
   "metadata": {},
   "outputs": [],
   "source": [
    "# Create dataset\n",
    "df_raw = pd.read_csv('data/ETT/SRL_NEG_00_04.csv')\n",
    "\n",
    "train =  Dataset_Custom('data/ETT/', freq= 'd', data_path='SRL_NEG_00_04.csv', target='capacity_price')\n",
    "test =  Dataset_Custom('data/ETT/', freq= 'd', data_path='SRL_NEG_00_04.csv', target='capacity_price',flag='test')\n",
    "vali =  Dataset_Custom('data/ETT/', freq= 'd', data_path='SRL_NEG_00_04.csv', target='capacity_price', flag='val')"
   ]
  },
  {
   "cell_type": "code",
   "execution_count": 71,
   "metadata": {},
   "outputs": [],
   "source": [
    "pred_seq = train.scaler.inverse_transform(pred_seq_raw)\n",
    "true_seq = train.scaler.inverse_transform(true_seq_raw)"
   ]
  },
  {
   "cell_type": "code",
   "execution_count": 72,
   "metadata": {},
   "outputs": [],
   "source": [
    "true_array = true_seq.squeeze()\n",
    "pred_len = true_array.shape[0] \n",
    "true_array = np.array([np.concatenate([np.repeat(np.nan, i), true_array[i], np.repeat(np.nan, pred_len-i)]) for i in np.arange(pred_len)])\n",
    "\n",
    "pred_array = pred_seq.squeeze()\n",
    "pred_array = np.array([np.concatenate([np.repeat(np.nan, i), pred_array[i], np.repeat(np.nan, pred_len-i)]) for i in np.arange(pred_len)])"
   ]
  },
  {
   "cell_type": "code",
   "execution_count": 73,
   "metadata": {},
   "outputs": [],
   "source": [
    "true_df = pd.DataFrame(true_array.transpose())\n",
    "true = true_df.mean(axis=1)\n",
    "pred_df = pd.DataFrame(pred_array.transpose())\n",
    "pred = pred_df.mean(axis=1)"
   ]
  },
  {
   "cell_type": "code",
   "execution_count": 74,
   "metadata": {},
   "outputs": [
    {
     "data": {
      "text/plain": [
       "0      114.921017\n",
       "1      110.013496\n",
       "2      106.107333\n",
       "3       96.984185\n",
       "4      103.433627\n",
       "          ...    \n",
       "147    343.495122\n",
       "148    358.020845\n",
       "149    329.128450\n",
       "150    334.403134\n",
       "151           NaN\n",
       "Length: 152, dtype: float64"
      ]
     },
     "execution_count": 74,
     "metadata": {},
     "output_type": "execute_result"
    }
   ],
   "source": [
    "pred"
   ]
  },
  {
   "cell_type": "code",
   "execution_count": 76,
   "metadata": {},
   "outputs": [
    {
     "data": {
      "text/plain": [
       "[<matplotlib.lines.Line2D at 0x238ded447f0>]"
      ]
     },
     "execution_count": 76,
     "metadata": {},
     "output_type": "execute_result"
    },
    {
     "data": {
      "image/png": "[encoded data removed]",
      "text/plain": [
       "<Figure size 1600x800 with 1 Axes>"
      ]
     },
     "metadata": {},
     "output_type": "display_data"
    }
   ],
   "source": [
    "import matplotlib.pyplot as plt\n",
    "\n",
    "plt.figure(figsize=(16, 8))\n",
    "plt.plot(true, label='True')\n",
    "plt.plot(pred, label='Pred')"
   ]
  },
  {
   "cell_type": "code",
   "execution_count": null,
   "metadata": {},
   "outputs": [],
   "source": []
  }
 ],
 "metadata": {
  "kernelspec": {
   "display_name": "test",
   "language": "python",
   "name": "python3"
  },
  "language_info": {
   "codemirror_mode": {
    "name": "ipython",
    "version": 3
   },
   "file_extension": ".py",
   "mimetype": "text/x-python",
   "name": "python",
   "nbconvert_exporter": "python",
   "pygments_lexer": "ipython3",
   "version": "3.10.6"
  },
  "orig_nbformat": 4,
  "vscode": {
   "interpreter": {
    "hash": "c899b22bd845a3880a3b1d56c5dcc8c772d54a86765da78ba33393599b98a253"
   }
  }
 },
 "nbformat": 4,
 "nbformat_minor": 2
}
